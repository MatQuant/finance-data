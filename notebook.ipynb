{
 "cells": [
  {
   "cell_type": "code",
   "execution_count": 1,
   "metadata": {},
   "outputs": [],
   "source": [
    "import yfinance as yf\n",
    "import pandas as pd\n",
    "import threading\n",
    "import numpy as np"
   ]
  },
  {
   "cell_type": "code",
   "execution_count": 2,
   "metadata": {},
   "outputs": [
    {
     "data": {
      "text/plain": [
       "'ADS.DE'"
      ]
     },
     "execution_count": 2,
     "metadata": {},
     "output_type": "execute_result"
    }
   ],
   "source": [
    "# Fetching DAX tickers from Wikipedia\n",
    "table = pd.read_html('https://en.wikipedia.org/wiki/DAX')[4]\n",
    "daxTickers = list(table['Ticker'])\n",
    "daxTickers[0] # adidas (ADS.DE)"
   ]
  },
  {
   "cell_type": "code",
   "execution_count": 3,
   "metadata": {},
   "outputs": [],
   "source": [
    "# Function to get history for a given ticker\n",
    "def get_history(ticker, startDate = '2023-12-01', endDate = '2023-12-31'):\n",
    "    df = yf.Ticker(ticker).history(start = startDate, end = endDate)\n",
    "    df = df.drop(columns = ['Dividends', 'Volume', 'Stock Splits'])\n",
    "    return df"
   ]
  },
  {
   "cell_type": "code",
   "execution_count": 4,
   "metadata": {},
   "outputs": [],
   "source": [
    "# Function to fetch history for each ticker using threading\n",
    "def get_histories(tickers, start_date='2023-12-01', end_date='2023-12-31'):\n",
    "    dfs = []\n",
    "    def worker(ticker):\n",
    "        df = get_history(ticker, start_date, end_date)\n",
    "        dfs.append((ticker,df))\n",
    "\n",
    "    threads = [threading.Thread(target=worker, args=(ticker,)) for ticker in tickers]\n",
    "    [thread.start() for thread in threads]\n",
    "    [thread.join() for thread in threads]\n",
    "    \n",
    "    return dict(dfs)"
   ]
  },
  {
   "cell_type": "code",
   "execution_count": 5,
   "metadata": {},
   "outputs": [],
   "source": [
    "data = get_histories(daxTickers)"
   ]
  },
  {
   "cell_type": "code",
   "execution_count": 6,
   "metadata": {},
   "outputs": [
    {
     "data": {
      "text/plain": [
       "([('DHL.DE', 0.8600417992394287),\n",
       "  ('RHM.DE', 0.9300123159650997),\n",
       "  ('MTX.DE', 0.9553439350717201),\n",
       "  ('EOAN.DE', 0.9859154324187477),\n",
       "  ('1COV.DE', 0.9995869472299371)],\n",
       " [('SRT3.DE', -0.8460693334274747),\n",
       "  ('BNR.DE', -0.7091045674687763),\n",
       "  ('BAYN.DE', -0.542021754246201),\n",
       "  ('HNR1.DE', -0.4703142193079986),\n",
       "  ('P911.DE', -0.43805598268355084)])"
      ]
     },
     "execution_count": 6,
     "metadata": {},
     "output_type": "execute_result"
    }
   ],
   "source": [
    "def generateAlphaSignals(index, dfs = data, selection = 5):\n",
    "    alphaSig = {}\n",
    "    for k in dfs:\n",
    "        #defining our formulaic alphas\n",
    "        ################ \n",
    "        alphaSig[k] = (\n",
    "            (dfs[k].iloc[index][\"Close\"] - dfs[k].iloc[index][\"Open\"]) /\n",
    "            ((dfs[k].iloc[index][\"High\"] - dfs[k].iloc[index][\"Low\"]) + 0.001)\n",
    "        )\n",
    "        ################\n",
    "    alphaSig = sorted(alphaSig.items(), key=lambda item: item[1])\n",
    "    longSig = alphaSig[len(alphaSig)-selection:]\n",
    "    shortSig = alphaSig[:selection]\n",
    "    return longSig,shortSig\n",
    "\n",
    "        \n",
    "generateAlphaSignals(0)"
   ]
  },
  {
   "cell_type": "code",
   "execution_count": 33,
   "metadata": {},
   "outputs": [
    {
     "data": {
      "text/plain": [
       "9506.75016344943"
      ]
     },
     "execution_count": 33,
     "metadata": {},
     "output_type": "execute_result"
    }
   ],
   "source": [
    "\n",
    "def backTest(capital = 10_000, dfs = data):\n",
    "    min_days = np.inf\n",
    "    for k in data:\n",
    "        if len(data[k]) < min_days:\n",
    "            min_days = len(data[k])\n",
    "    \n",
    "    for i in range(min_days-1):\n",
    "        signals = generateAlphaSignals(i)\n",
    "        for long in signals[0]:\n",
    "            capital = capital * (1 +  ((data[long[0]].iloc[i+1]['Close'] - data[long[0]].iloc[i]['Close']) / data[long[0]].iloc[i]['Close']))\n",
    "        for short in signals[1]:\n",
    "            capital = capital * (1 +  ((data[short[0]].iloc[i]['Close'] - data[short[0]].iloc[i+1]['Close']) / data[short[0]].iloc[i]['Close']))\n",
    "    return capital\n",
    "backTest()"
   ]
  }
 ],
 "metadata": {
  "kernelspec": {
   "display_name": "Python 3",
   "language": "python",
   "name": "python3"
  },
  "language_info": {
   "codemirror_mode": {
    "name": "ipython",
    "version": 3
   },
   "file_extension": ".py",
   "mimetype": "text/x-python",
   "name": "python",
   "nbconvert_exporter": "python",
   "pygments_lexer": "ipython3",
   "version": "3.10.12"
  }
 },
 "nbformat": 4,
 "nbformat_minor": 2
}
