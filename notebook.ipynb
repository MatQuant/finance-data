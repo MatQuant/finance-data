{
 "cells": [
  {
   "cell_type": "code",
   "execution_count": 1,
   "metadata": {},
   "outputs": [],
   "source": [
    "import yfinance as yf\n",
    "import pandas as pd\n",
    "import threading\n",
    "import numpy as np"
   ]
  },
  {
   "cell_type": "code",
   "execution_count": 2,
   "metadata": {},
   "outputs": [
    {
     "data": {
      "text/plain": [
       "'ADS.DE'"
      ]
     },
     "execution_count": 2,
     "metadata": {},
     "output_type": "execute_result"
    }
   ],
   "source": [
    "# Fetching DAX tickers from Wikipedia\n",
    "table = pd.read_html('https://en.wikipedia.org/wiki/DAX')[4]\n",
    "daxTickers = list(table['Ticker'])\n",
    "daxTickers[0] # adidas (ADS.DE)"
   ]
  },
  {
   "cell_type": "code",
   "execution_count": 3,
   "metadata": {},
   "outputs": [],
   "source": [
    "# Function to get history for a given ticker\n",
    "def get_history(ticker, startDate = '2023-12-01', endDate = '2023-12-31'):\n",
    "    df = yf.Ticker(ticker).history(start = startDate, end = endDate)\n",
    "    df = df.drop(columns = ['Dividends', 'Volume', 'Stock Splits'])\n",
    "    return df"
   ]
  },
  {
   "cell_type": "code",
   "execution_count": 4,
   "metadata": {},
   "outputs": [],
   "source": [
    "# Function to fetch history for each ticker using threading\n",
    "def get_histories(tickers, start_date='2023-12-01', end_date='2023-12-31'):\n",
    "    dfs = []\n",
    "    def worker(ticker):\n",
    "        df = get_history(ticker, start_date, end_date)\n",
    "        dfs.append((ticker,df))\n",
    "\n",
    "    threads = [threading.Thread(target=worker, args=(ticker,)) for ticker in tickers]\n",
    "    [thread.start() for thread in threads]\n",
    "    [thread.join() for thread in threads]\n",
    "    \n",
    "    return dict(dfs)"
   ]
  },
  {
   "cell_type": "code",
   "execution_count": 5,
   "metadata": {},
   "outputs": [],
   "source": [
    "data = get_histories(daxTickers)"
   ]
  },
  {
   "cell_type": "code",
   "execution_count": 6,
   "metadata": {},
   "outputs": [
    {
     "name": "stdout",
     "output_type": "stream",
     "text": [
      "0.9995869472299371\n",
      "0.6914727788165133\n",
      "0.6995665872335832\n",
      "0.8331210163976266\n",
      "0.3686653086454362\n",
      "-0.542021754246201\n",
      "0.5903635723806417\n",
      "0.2448569577455561\n",
      "-0.7091045674687763\n",
      "0.21148237049353344\n",
      "0.28309964309561614\n",
      "0.7642526293369097\n",
      "0.1834907721255294\n",
      "0.8600417992394287\n",
      "0.8238608802824869\n",
      "0.554020724384237\n",
      "0.7967039539066142\n",
      "0.9859154324187477\n",
      "-0.3323282045504301\n",
      "0.46758905401850276\n",
      "0.5549380169054225\n",
      "-0.4703142193079986\n",
      "0.4740064929366395\n",
      "0.6704717677229118\n",
      "-0.43459307854288454\n",
      "0.9553439350717201\n",
      "-0.4136555435313076\n",
      "-0.43805598268355084\n",
      "0.09077365679572835\n",
      "0.28021004014961\n",
      "0.9300123159650997\n",
      "0.43384199595154727\n",
      "0.24539783442228458\n",
      "0.5286350205946506\n",
      "0.7104512687229454\n",
      "-0.8460693334274747\n",
      "0.5195794536246003\n",
      "0.8190813208681778\n",
      "-0.12848043494512737\n",
      "0.780031943983956\n"
     ]
    }
   ],
   "source": [
    "def generateAlphaSignals(index, dfs=data, selection = 5):\n",
    "    alphaSig = {}\n",
    "    for k in dfs:\n",
    "        # defining our formulaic alphas\n",
    "        alphaSig[k] = (\n",
    "            (dfs[k].iloc[index][\"Close\"] - dfs[k].iloc[index][\"Open\"]) /\n",
    "            ((dfs[k].iloc[index][\"High\"] - dfs[k].iloc[index][\"Low\"]) + 0.001)\n",
    "        )\n",
    "    for k in sorted(alphaSig):\n",
    "        print(alphaSig[k])\n",
    "\n",
    "        \n",
    "generateAlphaSignals(0)"
   ]
  }
 ],
 "metadata": {
  "kernelspec": {
   "display_name": "Python 3",
   "language": "python",
   "name": "python3"
  },
  "language_info": {
   "codemirror_mode": {
    "name": "ipython",
    "version": 3
   },
   "file_extension": ".py",
   "mimetype": "text/x-python",
   "name": "python",
   "nbconvert_exporter": "python",
   "pygments_lexer": "ipython3",
   "version": "3.10.12"
  }
 },
 "nbformat": 4,
 "nbformat_minor": 2
}
