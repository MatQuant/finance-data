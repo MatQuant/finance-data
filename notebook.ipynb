{
 "cells": [
  {
   "cell_type": "code",
   "execution_count": 1,
   "metadata": {},
   "outputs": [],
   "source": [
    "import yfinance as yf\n",
    "import pandas as pd\n",
    "import threading\n",
    "import numpy as np"
   ]
  },
  {
   "cell_type": "code",
   "execution_count": 2,
   "metadata": {},
   "outputs": [
    {
     "data": {
      "text/plain": [
       "'ADS.DE'"
      ]
     },
     "execution_count": 2,
     "metadata": {},
     "output_type": "execute_result"
    }
   ],
   "source": [
    "# Fetching DAX tickers from Wikipedia\n",
    "table = pd.read_html('https://en.wikipedia.org/wiki/DAX')[4]\n",
    "daxTickers = list(table['Ticker'])\n",
    "daxTickers[0] # adidas (ADS.DE)"
   ]
  },
  {
   "cell_type": "code",
   "execution_count": 3,
   "metadata": {},
   "outputs": [],
   "source": [
    "# Function to get history for a given ticker\n",
    "def get_history(ticker, startDate = '2023-01-01', endDate = '2023-12-31'):\n",
    "    df = yf.Ticker(ticker).history(start = startDate, end = endDate)\n",
    "    df = df.drop(columns = ['Dividends', 'Volume', 'Stock Splits'])\n",
    "    return df"
   ]
  },
  {
   "cell_type": "code",
   "execution_count": 4,
   "metadata": {},
   "outputs": [],
   "source": [
    "# Function to fetch history for each ticker using threading\n",
    "def get_histories(tickers, start_date='2023-01-01', end_date='2023-12-31'):\n",
    "    dfs = []\n",
    "    def worker(ticker):\n",
    "        df = get_history(ticker, start_date, end_date)\n",
    "        dfs.append((ticker,df))\n",
    "\n",
    "    threads = [threading.Thread(target=worker, args=(ticker,)) for ticker in tickers]\n",
    "    [thread.start() for thread in threads]\n",
    "    [thread.join() for thread in threads]\n",
    "    \n",
    "    return dict(dfs)"
   ]
  },
  {
   "cell_type": "code",
   "execution_count": 5,
   "metadata": {},
   "outputs": [],
   "source": [
    "data = get_histories(daxTickers)"
   ]
  },
  {
   "cell_type": "code",
   "execution_count": 23,
   "metadata": {},
   "outputs": [
    {
     "data": {
      "text/plain": [
       "([('BAYN.DE', 0.8789268720505372),\n",
       "  ('MBG.DE', 0.9140758868564579),\n",
       "  ('BMW.DE', 0.9478346489909149),\n",
       "  ('RHM.DE', 0.9582420168150678),\n",
       "  ('CON.DE', 0.9833300667677126)],\n",
       " [('SRT3.DE', -0.9873004698453782),\n",
       "  ('SHL.DE', -0.8395177840526918),\n",
       "  ('ENR.DE', -0.733726719778024),\n",
       "  ('QIA.DE', -0.6218656628916495),\n",
       "  ('MRK.DE', -0.5866998103168953)])"
      ]
     },
     "execution_count": 23,
     "metadata": {},
     "output_type": "execute_result"
    }
   ],
   "source": [
    "def generateAlphaSignals(index, dfs = data, selection = 5):\n",
    "    alphaSig = {}\n",
    "    for k in dfs:\n",
    "        #defining our formula\n",
    "        alphaSig[k] = (\n",
    "            (dfs[k].iloc[index][\"Close\"] - dfs[k].iloc[index][\"Open\"]) /\n",
    "            ((dfs[k].iloc[index][\"High\"] - dfs[k].iloc[index][\"Low\"]) + 0.001)\n",
    "        )\n",
    "    alphaSig = sorted(alphaSig.items(), key=lambda item: item[1])\n",
    "    longSig = alphaSig[len(alphaSig)-selection:]\n",
    "    shortSig = alphaSig[:selection]\n",
    "    return longSig,shortSig\n",
    "\n",
    "        \n",
    "generateAlphaSignals(0)"
   ]
  },
  {
   "cell_type": "code",
   "execution_count": 24,
   "metadata": {},
   "outputs": [],
   "source": [
    "\n",
    "def backTest(capital = 10_000, dfs = data):\n",
    "    min_days = np.inf\n",
    "    for k in dfs:\n",
    "        if len(dfs[k]) < min_days:\n",
    "            min_days = len(dfs[k])\n",
    "    performance = [capital]\n",
    "    for i in range(min_days-1):\n",
    "        signals = generateAlphaSignals(i)\n",
    "        for long in signals[0]:\n",
    "            #we take position just before close\n",
    "            capital = capital * (1 +  ((dfs[long[0]].iloc[i+1]['Close'] - dfs[long[0]].iloc[i]['Close']) / dfs[long[0]].iloc[i]['Close']))\n",
    "\n",
    "        for short in signals[1]:\n",
    "            capital = capital * (1 +  ((dfs[short[0]].iloc[i]['Close'] - dfs[short[0]].iloc[i+1]['Close']) / dfs[short[0]].iloc[i]['Close']))\n",
    "        performance.append(capital)\n",
    "            \n",
    "        \n",
    "    return capital, performance\n",
    "bt = backTest()"
   ]
  }
 ],
 "metadata": {
  "kernelspec": {
   "display_name": "Python 3",
   "language": "python",
   "name": "python3"
  },
  "language_info": {
   "codemirror_mode": {
    "name": "ipython",
    "version": 3
   },
   "file_extension": ".py",
   "mimetype": "text/x-python",
   "name": "python",
   "nbconvert_exporter": "python",
   "pygments_lexer": "ipython3",
   "version": "3.10.12"
  }
 },
 "nbformat": 4,
 "nbformat_minor": 2
}
